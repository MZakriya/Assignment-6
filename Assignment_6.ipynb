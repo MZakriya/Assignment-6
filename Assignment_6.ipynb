{
  "nbformat": 4,
  "nbformat_minor": 0,
  "metadata": {
    "colab": {
      "provenance": [],
      "authorship_tag": "ABX9TyPmwhufwcmao/AdYSF0IPZp",
      "include_colab_link": true
    },
    "kernelspec": {
      "name": "python3",
      "display_name": "Python 3"
    },
    "language_info": {
      "name": "python"
    }
  },
  "cells": [
    {
      "cell_type": "markdown",
      "metadata": {
        "id": "view-in-github",
        "colab_type": "text"
      },
      "source": [
        "<a href=\"https://colab.research.google.com/github/MZakriya/Assignment-6/blob/main/Assignment_6.ipynb\" target=\"_parent\"><img src=\"https://colab.research.google.com/assets/colab-badge.svg\" alt=\"Open In Colab\"/></a>"
      ]
    },
    {
      "cell_type": "markdown",
      "source": [
        "# 1. Using self\n",
        "\n",
        "**Assignment:**\n",
        "\n",
        "Create a class Student with attributes name and marks. Use the self keyword to initialize these values via a constructor. Add a method display() that prints student details."
      ],
      "metadata": {
        "id": "I5WZUsq5fm03"
      }
    },
    {
      "cell_type": "code",
      "source": [
        "class Student:\n",
        "  def __init__(self,name,marks):\n",
        "    self.name = name\n",
        "    self.marks = marks\n",
        "  def display(self):\n",
        "    print(f\"Student {self.name} information:\")\n",
        "    print(\"Name:\",self.name)\n",
        "    print(\"Marks:\",self.marks)\n",
        "student1 = Student('Zakriya',95)\n",
        "student1.display()\n",
        "student2 = Student('Kashif',90)\n",
        "student2.display()"
      ],
      "metadata": {
        "colab": {
          "base_uri": "https://localhost:8080/"
        },
        "id": "J6g7l8Qcftdk",
        "outputId": "da84eea8-03c6-4a44-a377-2120734a11ec"
      },
      "execution_count": 1,
      "outputs": [
        {
          "output_type": "stream",
          "name": "stdout",
          "text": [
            "Student Zakriya information:\n",
            "Name: Zakriya\n",
            "Marks: 95\n",
            "Student Kashif information:\n",
            "Name: Kashif\n",
            "Marks: 90\n"
          ]
        }
      ]
    },
    {
      "cell_type": "markdown",
      "source": [
        "# 2. Using cls\n",
        "\n",
        "**Assignment:**\n",
        "\n",
        "Create a class Counter that keeps track of how many objects have been created. Use a class variable and a class method with cls to manage and display the count."
      ],
      "metadata": {
        "id": "uZvWLRa0gG_t"
      }
    },
    {
      "cell_type": "code",
      "source": [
        "class Counter:\n",
        "  count = 0\n",
        "  def __init__(self):\n",
        "    Counter.count += 1 # increament in class variable with class name\n",
        "  @classmethod\n",
        "  def display_count(cls): # class method with cls class attribute and decorator\n",
        "    print(f\"Total objects created: {cls.count}\")\n",
        "counter1 = Counter()\n",
        "counter2 = Counter()\n",
        "counter3 = Counter()\n",
        "counter4 = Counter()\n",
        "Counter.display_count()"
      ],
      "metadata": {
        "colab": {
          "base_uri": "https://localhost:8080/"
        },
        "id": "SgiU17svgMrl",
        "outputId": "13a924a1-911c-4ab7-a250-ba16a753e947"
      },
      "execution_count": 2,
      "outputs": [
        {
          "output_type": "stream",
          "name": "stdout",
          "text": [
            "Total objects created: 4\n"
          ]
        }
      ]
    },
    {
      "cell_type": "markdown",
      "source": [
        "# 3. Public Variables and Methods\n",
        "\n",
        "**Assignment:**\n",
        "\n",
        "Create a class Car with a public variable brand and a public method start(). Instantiate the class and access both from outside the class."
      ],
      "metadata": {
        "id": "_aCIVZqZgUTl"
      }
    },
    {
      "cell_type": "code",
      "source": [
        "\n",
        "class Car:\n",
        "    def __init__(self,brand):\n",
        "      self.brand = brand\n",
        "    def start(self):\n",
        "      print(f\"The {self.brand} car has started.\")\n",
        "car = Car(\"Toyota\")\n",
        "print(car.brand)\n",
        "car.start()\n",
        "\n",
        ""
      ],
      "metadata": {
        "colab": {
          "base_uri": "https://localhost:8080/"
        },
        "id": "oI2BBtWTge_u",
        "outputId": "4d248e9b-354b-4c36-94af-3bdf970d608c"
      },
      "execution_count": 3,
      "outputs": [
        {
          "output_type": "stream",
          "name": "stdout",
          "text": [
            "Toyota\n",
            "The Toyota car has started.\n"
          ]
        }
      ]
    },
    {
      "cell_type": "markdown",
      "source": [
        "# 4. Class Variables and Class Methods\n",
        "\n",
        "**Assignment:**\n",
        "\n",
        "Create a class Bank with a class variable bank_name. Add a class method change_bank_name(cls, name) that allows changing the bank name. Show that it affects all instances."
      ],
      "metadata": {
        "id": "dypOO2ITguc2"
      }
    },
    {
      "cell_type": "code",
      "source": [
        "\n",
        "class Bank:\n",
        "  bank_name = \"HBL\"\n",
        "  def __init__(self,name):\n",
        "    self.name = name\n",
        "  @classmethod\n",
        "  def change_bank_name(cls,name):\n",
        "    cls.bank_name = name\n",
        "bank1 = Bank(\"Zakriya\")\n",
        "bank2 = Bank(name=\"Kashif\")\n",
        "print(bank1.name,bank1.bank_name) # bank name before changing name of bank1\n",
        "print(bank2.name,bank2.bank_name) # bank name before changing name of bank2\n",
        "bank1.change_bank_name(\"Meezan\")\n",
        "print(bank1.name,bank1.bank_name) # bank name after changing name of bank1\n",
        "print(bank2.name,bank2.bank_name) # bank name after changing name of bank2"
      ],
      "metadata": {
        "colab": {
          "base_uri": "https://localhost:8080/"
        },
        "id": "tD2PZiwPhkEv",
        "outputId": "143af2a3-c6bf-4234-cc4e-0d8d35a98027"
      },
      "execution_count": 4,
      "outputs": [
        {
          "output_type": "stream",
          "name": "stdout",
          "text": [
            "Zakriya HBL\n",
            "Kashif HBL\n",
            "Zakriya Meezan\n",
            "Kashif Meezan\n"
          ]
        }
      ]
    },
    {
      "cell_type": "markdown",
      "source": [
        "# 5. Static Variables and Static Methods\n",
        "\n",
        "**Assignment:**\n",
        "\n",
        "Create a class MathUtils with a static method add(a, b) that returns the sum. No class or instance variables should be used."
      ],
      "metadata": {
        "id": "PPlqibzYiEFw"
      }
    },
    {
      "cell_type": "code",
      "source": [
        "class MathUtils:\n",
        "  @staticmethod\n",
        "  def add(a, b):\n",
        "    return a + b\n",
        "\n",
        "math1 = MathUtils()\n",
        "sum = math1.add(11,12)\n",
        "print(sum)\n",
        "\n"
      ],
      "metadata": {
        "colab": {
          "base_uri": "https://localhost:8080/"
        },
        "id": "wrLwMXkPiJTo",
        "outputId": "ff8a0bb0-8488-4490-83e3-e4a0a2b4d589"
      },
      "execution_count": 6,
      "outputs": [
        {
          "output_type": "stream",
          "name": "stdout",
          "text": [
            "23\n"
          ]
        }
      ]
    },
    {
      "cell_type": "markdown",
      "source": [
        "# 6. Constructors and Destructors\n",
        "\n",
        "**Assignment:**\n",
        "\n",
        "Create a class Logger that prints a message when an object is created (constructor) and another message when it is destroyed (destructor)."
      ],
      "metadata": {
        "id": "XLuXIt0-iQiQ"
      }
    },
    {
      "cell_type": "code",
      "source": [
        "class Logger:\n",
        "  def __init__(self,message): # constructor\n",
        "    self.message = message\n",
        "    print(f\"Object created with message: {self.message}\")\n",
        "  def __del__(self): # destructor\n",
        "    print(f\"Object destroyed with message: {self.message}\")\n",
        "logger1 = Logger(\"Zakriya is logged in\")\n",
        "del logger1\n",
        "# print(logger1) # object logger1 is destroyed\n"
      ],
      "metadata": {
        "colab": {
          "base_uri": "https://localhost:8080/"
        },
        "id": "LLevol1uiU1C",
        "outputId": "ddc2fb9f-e525-4b13-fd6f-b1f8cfab361a"
      },
      "execution_count": 7,
      "outputs": [
        {
          "output_type": "stream",
          "name": "stdout",
          "text": [
            "Object created with message: Zakriya is logged in\n",
            "Object destroyed with message: Zakriya is logged in\n"
          ]
        }
      ]
    },
    {
      "cell_type": "markdown",
      "source": [
        "# 7. Access Modifiers: Public, Private, and Protected\n",
        "\n",
        "**Assignment:**\n",
        "\n",
        "Create a class Employee with:\n",
        "a public variable name,\n",
        "\n",
        "a protected variable _salary, and\n",
        "\n",
        "a private variable __ssn.\n",
        "\n",
        "Try accessing all three variables from an object of the class and document what happens."
      ],
      "metadata": {
        "id": "tsy6j_7tix1D"
      }
    },
    {
      "cell_type": "code",
      "source": [
        "class Employee:\n",
        "  def __init__(self,name,_salary,__ssn):\n",
        "    self.name = name\n",
        "    self._salary = _salary\n",
        "    self.__ssn = __ssn\n",
        "  def get_salary(self):\n",
        "    return self._salary\n",
        "  def get_ssn(self):\n",
        "    return self.__ssn\n",
        "emp1 = Employee('Alice',100000,'123456789')\n",
        "print(emp1.get_salary())\n",
        "print(emp1.get_ssn())\n",
        "print(emp1.name) # name is public so it is accessible\n",
        "print(emp1._salary) # salary is protected so it shouldn't\n",
        "# print(emp1.__ssn) # ssn is private it raise an error and can't be accessible"
      ],
      "metadata": {
        "colab": {
          "base_uri": "https://localhost:8080/"
        },
        "id": "TBGPJqDbi2tN",
        "outputId": "dd2392fd-0fab-48bb-9c3f-1611d523667c"
      },
      "execution_count": 8,
      "outputs": [
        {
          "output_type": "stream",
          "name": "stdout",
          "text": [
            "100000\n",
            "123456789\n",
            "Alice\n",
            "100000\n"
          ]
        }
      ]
    },
    {
      "cell_type": "markdown",
      "source": [
        "# 8. The super() Function\n",
        "\n",
        "**Assignment:**\n",
        "\n",
        "Create a class Person with a constructor that sets the name. Inherit a class Teacher from it, add a subject field, and use super() to call the base class constructor."
      ],
      "metadata": {
        "id": "Ca8NGE9_i_dj"
      }
    },
    {
      "cell_type": "code",
      "source": [
        "class Person:\n",
        "  def __init__(self,name):\n",
        "    self.name = name\n",
        "class Teacher(Person):\n",
        "  def __init__(self,name,subject):\n",
        "    super().__init__(name)\n",
        "    self.subject = subject\n",
        "teacher1 = Teacher(\"Zakriya\",\"Math\")\n",
        "print(teacher1.name)\n",
        "print(teacher1.subject)\n",
        "\n",
        ""
      ],
      "metadata": {
        "colab": {
          "base_uri": "https://localhost:8080/"
        },
        "id": "RasMwGgJjDZU",
        "outputId": "57f76578-a224-49fa-f52b-990a26f8d1e9"
      },
      "execution_count": 10,
      "outputs": [
        {
          "output_type": "stream",
          "name": "stdout",
          "text": [
            "Zakriya\n",
            "Math\n"
          ]
        }
      ]
    },
    {
      "cell_type": "markdown",
      "source": [
        "# 9. Abstract Classes and Methods\n",
        "\n",
        "**Assignment:**\n",
        "\n",
        "Use the abc module to create an abstract class Shape with an abstract method area(). Inherit a class Rectangle that implements area()."
      ],
      "metadata": {
        "id": "REQppfwRjQTk"
      }
    },
    {
      "cell_type": "code",
      "source": [
        "from abc import abstractmethod\n",
        "class Shape:\n",
        "  @abstractmethod\n",
        "  def area(abc):\n",
        "    pass\n",
        "class Rectangle(Shape):\n",
        "  def __init__(self,length,width):\n",
        "    self.length = length\n",
        "    self.width = width\n",
        "  def area(self):\n",
        "    return self.length * self.width\n",
        "rectangle1 = Rectangle(10,20)\n",
        "print(rectangle1.area())\n"
      ],
      "metadata": {
        "colab": {
          "base_uri": "https://localhost:8080/"
        },
        "id": "O_VRLxDBjrlG",
        "outputId": "7ae5bd62-0e88-4cb3-ef1e-59e0fa74feb6"
      },
      "execution_count": 11,
      "outputs": [
        {
          "output_type": "stream",
          "name": "stdout",
          "text": [
            "200\n"
          ]
        }
      ]
    },
    {
      "cell_type": "markdown",
      "source": [
        "# 10. Instance Methods\n",
        "\n",
        "**Assignment:**\n",
        "\n",
        "Create a class Dog with instance variables name and breed. Add an instance method bark() that prints a message including the dog's name."
      ],
      "metadata": {
        "id": "Vlp63UWOjwI-"
      }
    },
    {
      "cell_type": "code",
      "source": [
        "class Dog:\n",
        "  def __init__(self,name,breed):\n",
        "    self.name = name\n",
        "    self.breed = breed\n",
        "  def bark(self):\n",
        "    print(f\"{self.name} the {self.breed} dog is barking\")\n",
        "dog1 = Dog(\"Buddy\",\"Labrador\")\n",
        "dog1.bark()"
      ],
      "metadata": {
        "colab": {
          "base_uri": "https://localhost:8080/"
        },
        "id": "ehoR7fq3j1JJ",
        "outputId": "4586d984-a0e5-4864-c14a-dc2991a49854"
      },
      "execution_count": 12,
      "outputs": [
        {
          "output_type": "stream",
          "name": "stdout",
          "text": [
            "Buddy the Labrador dog is barking\n"
          ]
        }
      ]
    },
    {
      "cell_type": "markdown",
      "source": [
        "# 11. Class Methods\n",
        "\n",
        "**Assignment:**\n",
        "\n",
        "Create a class Book with a class variable total_books. Add a class method increment_book_count() to increase the count when a new book is added."
      ],
      "metadata": {
        "id": "YQDQ_XXRj6zp"
      }
    },
    {
      "cell_type": "code",
      "source": [
        "class Book:\n",
        "  total_books = 0\n",
        "  def __init__(self,title):\n",
        "    self.title = title\n",
        "  @classmethod\n",
        "  def increment_book_count(cls):\n",
        "    cls.total_books += 1\n",
        "book1 = Book(\"The Great Gatsby\")\n",
        "Book.increment_book_count()\n",
        "print(f\"{book1.title} is book {book1.total_books}\")\n",
        "\n",
        "book2 = Book(\"To Kill a Mockingbird\")\n",
        "Book.increment_book_count()\n",
        "print(f\"{book2.title} is book {book2.total_books}\")"
      ],
      "metadata": {
        "colab": {
          "base_uri": "https://localhost:8080/"
        },
        "id": "k6AHshaZkKNq",
        "outputId": "5bc96c9c-71bc-4351-d494-8501802be6a0"
      },
      "execution_count": 13,
      "outputs": [
        {
          "output_type": "stream",
          "name": "stdout",
          "text": [
            "The Great Gatsby is book 1\n",
            "To Kill a Mockingbird is book 2\n"
          ]
        }
      ]
    },
    {
      "cell_type": "markdown",
      "source": [
        "# 12. Static Methods\n",
        "\n",
        "**Assignment:**\n",
        "\n",
        "Create a class TemperatureConverter with a static method celsius_to_fahrenheit(c) that returns the Fahrenheit value."
      ],
      "metadata": {
        "id": "VDWtPgR5oGGx"
      }
    },
    {
      "cell_type": "code",
      "source": [
        "class TemperatureConverter:\n",
        "    def __init__(self, celsius_temp):\n",
        "        self.celsius_temp = celsius_temp\n",
        "\n",
        "    @staticmethod\n",
        "    def celsius_to_fahrenheit(celsius_temp):\n",
        "        fahrenheit_temp = (celsius_temp * 9/5) + 32\n",
        "        return fahrenheit_temp\n",
        "temp1 = TemperatureConverter(30)\n",
        "print(f\"{temp1.celsius_temp}C to {temp1.celsius_to_fahrenheit(30)}F\")"
      ],
      "metadata": {
        "colab": {
          "base_uri": "https://localhost:8080/"
        },
        "id": "-l7LFlauoPBz",
        "outputId": "509c8f9c-d0ac-464f-fdcd-1019c44eec5a"
      },
      "execution_count": 16,
      "outputs": [
        {
          "output_type": "stream",
          "name": "stdout",
          "text": [
            "30C to 86.0F\n"
          ]
        }
      ]
    },
    {
      "cell_type": "markdown",
      "source": [
        "# 13. Composition\n",
        "\n",
        "**Assignment:**\n",
        "\n",
        "Create a class Engine and a class Car. Use composition by passing an Engine object to the Car class during initialization. Access a method of the Engine class via the Car class."
      ],
      "metadata": {
        "id": "YQDyrgQ4omVc"
      }
    },
    {
      "cell_type": "code",
      "source": [
        "class Engine:\n",
        "  def __init__(self,engine_type):\n",
        "    self.engine_type = engine_type\n",
        "  def start(self):\n",
        "    print(f\"The {self.engine_type} engine is starting\")\n",
        "class Car:\n",
        "  def __init__(self,engine):\n",
        "    self.engine = engine\n",
        "  def start_engine(self):\n",
        "    self.engine.start()\n",
        "engine1 = Engine(\"V8\")\n",
        "car1 = Car(engine1)\n",
        "car1.start_engine()"
      ],
      "metadata": {
        "colab": {
          "base_uri": "https://localhost:8080/"
        },
        "id": "wPte4ai3or-q",
        "outputId": "f0b415f5-9ae1-4760-ce8f-ae2e92ae339f"
      },
      "execution_count": 17,
      "outputs": [
        {
          "output_type": "stream",
          "name": "stdout",
          "text": [
            "The V8 engine is starting\n"
          ]
        }
      ]
    },
    {
      "cell_type": "markdown",
      "source": [
        "# 14. Aggregation\n",
        "\n",
        "**Assignment:**\n",
        "\n",
        "Create a class Department and a class Employee. Use aggregation by having a Department object store a reference to an Employee object that exists independently of it."
      ],
      "metadata": {
        "id": "cdNoigcxo3xx"
      }
    },
    {
      "cell_type": "code",
      "source": [
        "class Department:\n",
        "  def __init__(self,name):\n",
        "    self.name = name\n",
        "class Employee:\n",
        "  def __init__(self,name,department):\n",
        "    self.name = name\n",
        "    self.department = department\n",
        "dep1 = Department(\"Agentic AI\")\n",
        "emp1 = Employee(\"Zakriya\",dep1)\n",
        "print(emp1.name)\n",
        "print(emp1.department.name)"
      ],
      "metadata": {
        "colab": {
          "base_uri": "https://localhost:8080/"
        },
        "id": "s82WOFWfo-j5",
        "outputId": "1522536f-8e43-422c-f3cc-2b27e066a9eb"
      },
      "execution_count": 18,
      "outputs": [
        {
          "output_type": "stream",
          "name": "stdout",
          "text": [
            "Zakriya\n",
            "Agentic AI\n"
          ]
        }
      ]
    },
    {
      "cell_type": "markdown",
      "source": [
        "# 15. Method Resolution Order (MRO) and Diamond Inheritance\n",
        "\n",
        "**Assignment:**\n",
        "\n",
        "Create four classes:\n",
        "A with a method show(),\n",
        "\n",
        "B and C that inherit from A and override show(),\n",
        "\n",
        "D that inherits from both B and C.\n",
        "\n",
        "Create an object of D and call show() to observe MRO."
      ],
      "metadata": {
        "id": "iosphtuCpPJa"
      }
    },
    {
      "cell_type": "code",
      "source": [
        "class A:\n",
        "  def show(self):\n",
        "    print(\"Method from class A\")\n",
        "class B(A):\n",
        "  def show(self):\n",
        "    print(\"Method from class B\")\n",
        "class C(A):\n",
        "  def show(self):\n",
        "    print(\"Method from class C\")\n",
        "class D(B,C):\n",
        "  pass\n",
        "d1 = D()\n",
        "d1.show()\n"
      ],
      "metadata": {
        "colab": {
          "base_uri": "https://localhost:8080/"
        },
        "id": "0WmJpJmipOvw",
        "outputId": "dfa2a531-e03d-48ad-ddb3-1c902e9d3fb3"
      },
      "execution_count": 19,
      "outputs": [
        {
          "output_type": "stream",
          "name": "stdout",
          "text": [
            "Method from class B\n"
          ]
        }
      ]
    },
    {
      "cell_type": "markdown",
      "source": [
        "# 16. Function Decorators\n",
        "\n",
        "**Assignment:**\n",
        "\n",
        "Write a decorator function log_function_call that prints \"Function is being called\" before a function executes. Apply it to a function say_hello()."
      ],
      "metadata": {
        "id": "KW0eEENZpgXo"
      }
    },
    {
      "cell_type": "code",
      "source": [
        "def log_function_call(func):\n",
        "  def wrapper(*args,**kwargs):\n",
        "    print(\"Function is being called\")\n",
        "    return func(*args,**kwargs)\n",
        "  return wrapper\n",
        "@log_function_call\n",
        "def say_hello(): # decoractor function call that first call wrapper function then say_hello\n",
        "  print(\"Hello\")\n",
        "say_hello()\n"
      ],
      "metadata": {
        "colab": {
          "base_uri": "https://localhost:8080/"
        },
        "id": "ksueQHnCp4Xc",
        "outputId": "ff7781b1-3cdf-44e7-fa66-57f026637d7c"
      },
      "execution_count": 20,
      "outputs": [
        {
          "output_type": "stream",
          "name": "stdout",
          "text": [
            "Function is being called\n",
            "Hello\n"
          ]
        }
      ]
    },
    {
      "cell_type": "markdown",
      "source": [
        "# 17. Class Decorators\n",
        "\n",
        "**Assignment:**\n",
        "\n",
        "Create a class decorator add_greeting that modifies a class to add a greet() method returning \"Hello from Decorator!\". Apply it to a class Person."
      ],
      "metadata": {
        "id": "GqkIX_vHp-dw"
      }
    },
    {
      "cell_type": "code",
      "source": [
        "class add_greeting:\n",
        "  def __init__(self,cls):\n",
        "    self.cls = cls\n",
        "  def __call__(self,*args,**kwargs):\n",
        "    obj = self.cls(*args,**kwargs)\n",
        "    obj.greet = self.greet\n",
        "    return obj\n",
        "  def greet(cls):\n",
        "    return \"Hello from Decorator!\"\n",
        "@add_greeting\n",
        "class Person:\n",
        "  def __init__(self,name):\n",
        "    self.name = name\n",
        "person1 = Person(\"Zakriya\")\n",
        "print(person1.name)\n",
        "print(person1.greet())\n"
      ],
      "metadata": {
        "colab": {
          "base_uri": "https://localhost:8080/"
        },
        "id": "VxAlwB0PqENI",
        "outputId": "6bb12cc0-f4d6-49ca-bde5-7069545b1733"
      },
      "execution_count": 1,
      "outputs": [
        {
          "output_type": "stream",
          "name": "stdout",
          "text": [
            "Muniba\n",
            "Hello from Decorator!\n"
          ]
        }
      ]
    },
    {
      "cell_type": "markdown",
      "source": [
        "# 18. Property Decorators: @property, @setter, and @deleter\n",
        "\n",
        "**Assignment:**\n",
        "\n",
        "Create a class Product with a private attribute _price. Use @property to get the price, @price.setter to update it, and @price.deleter to delete it."
      ],
      "metadata": {
        "id": "1hphElyiMEff"
      }
    },
    {
      "cell_type": "code",
      "source": [
        "class Product:\n",
        "  def __init__(self,price):\n",
        "    self._price = price\n",
        "  @property\n",
        "  def price(self):\n",
        "    return self._price\n",
        "  @price.setter\n",
        "  def price(self,price):\n",
        "    self._price = price\n",
        "  @price.deleter\n",
        "  def price(self):\n",
        "    del self._price\n",
        "product1 = Product(200)\n",
        "print(product1.price)"
      ],
      "metadata": {
        "colab": {
          "base_uri": "https://localhost:8080/"
        },
        "id": "2ci_znQXMLtW",
        "outputId": "9f74b7f5-b28d-4d21-d049-61a28b4d943d"
      },
      "execution_count": 3,
      "outputs": [
        {
          "output_type": "stream",
          "name": "stdout",
          "text": [
            "200\n"
          ]
        }
      ]
    },
    {
      "cell_type": "markdown",
      "source": [
        "# 19. callable() and __call__()\n",
        "\n",
        "**Assignment:**\n",
        "\n",
        "Create a class Multiplier with an init() to set a factor. Define a call() method that multiplies an input by the factor. Test it with callable() and by calling the object like a function."
      ],
      "metadata": {
        "id": "4_-dX2imMVjY"
      }
    },
    {
      "cell_type": "code",
      "source": [
        "class Multiplier:\n",
        "  def __init__(self,factor):\n",
        "    self.factor = factor\n",
        "  def __call__(self,x):\n",
        "    return x * self.factor\n",
        "multiplier1 = Multiplier(2)\n",
        "print(multiplier1(5))\n",
        "print(callable(multiplier1))"
      ],
      "metadata": {
        "colab": {
          "base_uri": "https://localhost:8080/"
        },
        "id": "DTU2FYdUMZH3",
        "outputId": "38ce12d5-b0d3-4e11-ffd9-743cab7bddee"
      },
      "execution_count": 4,
      "outputs": [
        {
          "output_type": "stream",
          "name": "stdout",
          "text": [
            "10\n",
            "True\n"
          ]
        }
      ]
    },
    {
      "cell_type": "markdown",
      "source": [
        "# 20. Creating a Custom Exception\n",
        "\n",
        "**Assignment:**\n",
        "\n",
        "Create a custom exception InvalidAgeError. Write a function check_age(age) that raises this exception if age < 18. Handle it with try...except."
      ],
      "metadata": {
        "id": "QQ59G2AkMdIt"
      }
    },
    {
      "cell_type": "code",
      "source": [
        "# Step 1: Create a custom exception\n",
        "class InvalidAgeError(Exception):\n",
        "    \"\"\"Exception raised for errors in the input age below 18.\"\"\"\n",
        "    def __init__(self, age, message=\"Age must be at least 18\"):\n",
        "        self.age = age\n",
        "        self.message = message\n",
        "        super().__init__(self.message)\n",
        "\n",
        "# Step 2: Create a function that checks the age\n",
        "def check_age(age):\n",
        "    if age < 18:\n",
        "        raise InvalidAgeError(age)\n",
        "    else:\n",
        "        print(\"Age is valid.\")\n",
        "\n",
        "# Step 3: Use try...except to handle the exception\n",
        "try:\n",
        "    user_age = int(input(\"Enter your age: \"))\n",
        "    check_age(user_age)\n",
        "except InvalidAgeError as e:\n",
        "    print(f\"InvalidAgeError: {e}\")\n",
        "except ValueError:\n",
        "    print(\"Please enter a valid number.\")\n",
        "\n"
      ],
      "metadata": {
        "colab": {
          "base_uri": "https://localhost:8080/"
        },
        "id": "0ZZ3bAvnMmgf",
        "outputId": "52b67da3-b407-486c-9bd9-336058a4472d"
      },
      "execution_count": 5,
      "outputs": [
        {
          "output_type": "stream",
          "name": "stdout",
          "text": [
            "Enter your age: 23\n",
            "Age is valid.\n"
          ]
        }
      ]
    },
    {
      "cell_type": "markdown",
      "source": [
        "# 21. Make a Custom Class Iterable\n",
        "\n",
        "**Assignment:**\n",
        "\n",
        "Create a class Countdown that takes a start number. Implement iter() and next() to make the object iterable in a for-loop, counting down to 0."
      ],
      "metadata": {
        "id": "OGTRQFJOMxQ-"
      }
    },
    {
      "cell_type": "code",
      "source": [
        "class Countdown:\n",
        "    def __init__(self, start):\n",
        "        self.start = start\n",
        "        self.current = start\n",
        "\n",
        "    def __iter__(self):\n",
        "        # Resetting current for new iteration\n",
        "        self.current = self.start\n",
        "        return self\n",
        "\n",
        "    def __next__(self):\n",
        "        if self.current < 0:\n",
        "            raise StopIteration\n",
        "        else:\n",
        "            num = self.current\n",
        "            self.current -= 1\n",
        "            return num\n",
        "\n",
        "# Example usage\n",
        "for number in Countdown(5):\n",
        "    print(number)\n"
      ],
      "metadata": {
        "colab": {
          "base_uri": "https://localhost:8080/"
        },
        "id": "pS5LrhAFM0Me",
        "outputId": "716af4f2-bf24-4a3c-dba7-21401ca160cb"
      },
      "execution_count": 7,
      "outputs": [
        {
          "output_type": "stream",
          "name": "stdout",
          "text": [
            "5\n",
            "4\n",
            "3\n",
            "2\n",
            "1\n",
            "0\n"
          ]
        }
      ]
    }
  ]
}